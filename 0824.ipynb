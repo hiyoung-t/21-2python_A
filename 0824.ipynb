{
  "nbformat": 4,
  "nbformat_minor": 0,
  "metadata": {
    "colab": {
      "name": "Untitled1.ipynb",
      "provenance": [],
      "authorship_tag": "ABX9TyPjq40dYj7zhq7w5euuqEna",
      "include_colab_link": true
    },
    "kernelspec": {
      "name": "python3",
      "display_name": "Python 3"
    },
    "language_info": {
      "name": "python"
    }
  },
  "cells": [
    {
      "cell_type": "markdown",
      "metadata": {
        "id": "view-in-github",
        "colab_type": "text"
      },
      "source": [
        "<a href=\"https://colab.research.google.com/github/hiyoung-t/21-2python_A/blob/main/0824.ipynb\" target=\"_parent\"><img src=\"https://colab.research.google.com/assets/colab-badge.svg\" alt=\"Open In Colab\"/></a>"
      ]
    },
    {
      "cell_type": "markdown",
      "metadata": {
        "id": "tuMjFSxtZXdM"
      },
      "source": [
        "## **학습목표**\n",
        "1. python 언어에서 변수의 의미를 이해하기\n",
        "2. 기본 데이터 타입 선언하기 \n",
        "  - int, float, str, bool\n"
      ]
    },
    {
      "cell_type": "markdown",
      "metadata": {
        "id": "fh5XXfS8b0p-"
      },
      "source": [
        "## = 대입연산자\n",
        "- 오른쪽 수식이나 값을 계산한 후 왼쪽에 명시된 변수에 해당 값을 대입\n",
        "- 변수는 해당 값을 가지게 된다."
      ]
    },
    {
      "cell_type": "code",
      "metadata": {
        "id": "20erRhWjcCav"
      },
      "source": [
        "a = 10 #int\n",
        "b = 11.4 #float "
      ],
      "execution_count": 3,
      "outputs": []
    },
    {
      "cell_type": "markdown",
      "metadata": {
        "id": "A4rd5rkacrX9"
      },
      "source": [
        "## **주석**\n",
        "- 코드에서 #으로 시작하는 뒷부분\n",
        "- python에서는 소스코드를 실행할 때 #을 만나면 무시\n",
        "- 개발자(사람)이 보기 위한 용도로 사용"
      ]
    },
    {
      "cell_type": "code",
      "metadata": {
        "id": "i8YF7Y6Pc-iq"
      },
      "source": [
        "# this line is very important\n",
        "# so don't delete those line\n",
        " \n",
        "math = 76"
      ],
      "execution_count": null,
      "outputs": []
    },
    {
      "cell_type": "markdown",
      "metadata": {
        "id": "pmyyMcFPd5C2"
      },
      "source": [
        "## **변수 값 확인법**\n",
        "- print() 함수 사용\n",
        "- 코드에 마지막에 변수 값을 위치시킨 후 실행"
      ]
    },
    {
      "cell_type": "code",
      "metadata": {
        "colab": {
          "base_uri": "https://localhost:8080/"
        },
        "id": "HvGBt-AGeVcr",
        "outputId": "be203a5a-756e-40b8-c582-7faa230db8ab"
      },
      "source": [
        "a = 10\n",
        "b =11.4\n",
        "a\n",
        "b\n",
        "print(a)\n",
        "print(a,b)\n",
        "b"
      ],
      "execution_count": 8,
      "outputs": [
        {
          "output_type": "stream",
          "text": [
            "10\n",
            "10 11.4\n"
          ],
          "name": "stdout"
        },
        {
          "output_type": "execute_result",
          "data": {
            "text/plain": [
              "11.4"
            ]
          },
          "metadata": {},
          "execution_count": 8
        }
      ]
    },
    {
      "cell_type": "markdown",
      "metadata": {
        "id": "athE5QGxgNEE"
      },
      "source": [
        "### **print 함수**\n",
        "- 함수란 특정 기능을 반복적으로 호출하여 사용가능한 코드 블럭\n",
        "- , 로 여러 변수를 한줄에 출력\n",
        "- 기본적으로 한칸 띄어쓰기 후 출력"
      ]
    },
    {
      "cell_type": "code",
      "metadata": {
        "colab": {
          "base_uri": "https://localhost:8080/"
        },
        "id": "saLEVyA2gkl1",
        "outputId": "cecc2b10-126e-4ac5-aedf-f40cf1732aa4"
      },
      "source": [
        "print(a, b)\n",
        "print( a, 10, 200, b)\n",
        "print(\"1교시 python\")"
      ],
      "execution_count": 10,
      "outputs": [
        {
          "output_type": "stream",
          "text": [
            "10 11.4\n",
            "10 10 200 11.4\n",
            "1교시 python\n"
          ],
          "name": "stdout"
        }
      ]
    },
    {
      "cell_type": "markdown",
      "metadata": {
        "id": "Qqq9LXeEhEWX"
      },
      "source": [
        "**print 함수 설정**\n",
        "- sep(구분자) : 각 변수 사이에서 구분해주는 역할\n",
        "- end : 마지막에 출력할 문자열\n",
        "\n"
      ]
    },
    {
      "cell_type": "code",
      "metadata": {
        "colab": {
          "base_uri": "https://localhost:8080/"
        },
        "id": "wbXfE7AthcSf",
        "outputId": "25dd7950-e9e2-4a82-ed65-934850ee2a4c"
      },
      "source": [
        "print(a,b, 200, \"하영\", sep='#', end='!!')"
      ],
      "execution_count": 11,
      "outputs": [
        {
          "output_type": "stream",
          "text": [
            "10#11.4#200#하영!!"
          ],
          "name": "stdout"
        }
      ]
    },
    {
      "cell_type": "code",
      "metadata": {
        "id": "SfGIVyJbhnN4"
      },
      "source": [
        ""
      ],
      "execution_count": null,
      "outputs": []
    }
  ]
}