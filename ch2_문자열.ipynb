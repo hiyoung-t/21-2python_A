{
  "nbformat": 4,
  "nbformat_minor": 0,
  "metadata": {
    "colab": {
      "name": "Untitled2.ipynb",
      "provenance": [],
      "authorship_tag": "ABX9TyON1s/nik52LiyuLmnvX9Ug",
      "include_colab_link": true
    },
    "kernelspec": {
      "name": "python3",
      "display_name": "Python 3"
    },
    "language_info": {
      "name": "python"
    }
  },
  "cells": [
    {
      "cell_type": "markdown",
      "metadata": {
        "id": "view-in-github",
        "colab_type": "text"
      },
      "source": [
        "<a href=\"https://colab.research.google.com/github/hiyoung-t/21-2python_A/blob/main/ch2_%EB%AC%B8%EC%9E%90%EC%97%B4.ipynb\" target=\"_parent\"><img src=\"https://colab.research.google.com/assets/colab-badge.svg\" alt=\"Open In Colab\"/></a>"
      ]
    },
    {
      "cell_type": "markdown",
      "metadata": {
        "id": "Xn3KKF8PEAX0"
      },
      "source": [
        "##**학습목표**\n",
        "\n",
        "문자열(str)타입을 이해하기"
      ]
    },
    {
      "cell_type": "markdown",
      "metadata": {
        "id": "N9BvBknkEa_g"
      },
      "source": [
        "##**문자열(String)**\n",
        "- 여러 개의 문자를 순서대로 나열한 것\n",
        "- 문자열은 '(작은 따옴표)' 혹은 \"(큰 따옴표)\" 사이에 문자를 넣어서 생성\n",
        "- 문자열 자체에 \", ' 가 있는 경우, 반대의 기호를 생성\n"
      ]
    },
    {
      "cell_type": "code",
      "metadata": {
        "colab": {
          "base_uri": "https://localhost:8080/"
        },
        "id": "Y0DW8s7SEv8o",
        "outputId": "282ca8ef-0a95-440a-f817-d2e4570680f5"
      },
      "source": [
        "a = \"Hello world!\"\n",
        "b = ' \"Hello\" world! '\n",
        "\n",
        "print(a)\n",
        "print(b)"
      ],
      "execution_count": 2,
      "outputs": [
        {
          "output_type": "stream",
          "text": [
            "Hello world!\n",
            " 'Hello' world! \n"
          ],
          "name": "stdout"
        }
      ]
    },
    {
      "cell_type": "markdown",
      "metadata": {
        "id": "e7WO1VTVFWI4"
      },
      "source": [
        "###**이스케이프(escape) 문자**\n",
        "\n",
        "- 문자열 내의 문자의 의미를 달리하여 특정한 효과를 준 것\n",
        "- Enter, tab\n",
        "\n",
        "- `\\n`: Enter, 새로운 줄(다음줄)\n",
        "- `\\t`: tap\n",
        "\n",
        "\n",
        "\n",
        "\n",
        "\n"
      ]
    },
    {
      "cell_type": "code",
      "metadata": {
        "colab": {
          "base_uri": "https://localhost:8080/"
        },
        "id": "yxcp2oYyFXWw",
        "outputId": "93511760-de83-4217-99c9-8da4a0fd4109"
      },
      "source": [
        "print(\"안녕하세요. \\n제 이름은 \\t이하영 입니다. \\n직업은 \\t선생님 입니다.\")"
      ],
      "execution_count": 7,
      "outputs": [
        {
          "output_type": "stream",
          "text": [
            "안녕하세요. \n",
            "제 이름은 \t이하영 입니다. \n",
            "직업은 \t선생님 입니다.\n"
          ],
          "name": "stdout"
        }
      ]
    },
    {
      "cell_type": "markdown",
      "metadata": {
        "id": "Re2wH6UvHSPB"
      },
      "source": [
        "## **문자열의 인덱스(index) 및 추출**\n",
        "\n",
        "- 문자열의 각 문자는 순서가 있음 : `인덱스`\n",
        "- 인덱스 표현은 ? [ ]\n",
        "- 첫번째 문자부터 마지막까지 차례대로 순서를 가짐\n",
        "- 시작은 0! (1 X)\n",
        "\n"
      ]
    },
    {
      "cell_type": "code",
      "metadata": {
        "colab": {
          "base_uri": "https://localhost:8080/"
        },
        "id": "OjMZf6P4HrIH",
        "outputId": "e7c3c6b6-df7d-4734-9316-b4297a6e0854"
      },
      "source": [
        "a = \"Hello World!\"# 번호는 0번~11번까지, 길이는 12\n",
        "print(a[0], a[4], a[5])\n"
      ],
      "execution_count": 10,
      "outputs": [
        {
          "output_type": "stream",
          "text": [
            "H o  \n"
          ],
          "name": "stdout"
        }
      ]
    },
    {
      "cell_type": "markdown",
      "metadata": {
        "id": "8dbcC-l7IPVK"
      },
      "source": [
        "### **-1 인덱스**\n",
        " - 다른 언어와 달리 python은 음수의 인덱스를 지원\n",
        " - -1이 가장 마지막 인덱스, -2는 마지막에서 두번째 인덱스\n"
      ]
    },
    {
      "cell_type": "code",
      "metadata": {
        "colab": {
          "base_uri": "https://localhost:8080/"
        },
        "id": "6EedgRO9Ikjy",
        "outputId": "2c43caa8-c4d8-41ef-f0d0-b4be5a85be74"
      },
      "source": [
        "#a = \"Hello World!\"\n",
        "\n",
        "print(a[-1], a[-3], a[-12]) #a[12]부터, a[-13]부터는 범위를 벗어나서 에러!"
      ],
      "execution_count": 17,
      "outputs": [
        {
          "output_type": "stream",
          "text": [
            "! l H\n"
          ],
          "name": "stdout"
        }
      ]
    },
    {
      "cell_type": "markdown",
      "metadata": {
        "id": "xYDj1b3XJ6e7"
      },
      "source": [
        "####**문자열 슬라이싱(slicing)**\n",
        "- 인덱스로 추출할 때는 한글자만 추출한다면,\n",
        "  슬라이싱은 부분 문자열을 추출한다.\n",
        "- [시작:끝]과 같이 명시하여 해당 부분 문자을 추출\n",
        "- 시작이나 끝이 생략되어 있다면, 0부터 혹은 끝까지로 간주해 추출\n"
      ]
    },
    {
      "cell_type": "code",
      "metadata": {
        "colab": {
          "base_uri": "https://localhost:8080/"
        },
        "id": "VsrF0UVJKXQU",
        "outputId": "d1fe9a10-4e89-4f43-f44e-1f047f023c4d"
      },
      "source": [
        "#a = \"Hello World!\"\n",
        "\n",
        "print(a[3:10])\n",
        "print(a[:10])\n",
        "print(a[3:])\n",
        "print(a[:])"
      ],
      "execution_count": 23,
      "outputs": [
        {
          "output_type": "stream",
          "text": [
            "lo Worl\n",
            "Hello Worl\n",
            "lo World!\n",
            "Hello World!\n"
          ],
          "name": "stdout"
        }
      ]
    },
    {
      "cell_type": "markdown",
      "metadata": {
        "id": "PrLVmS52K7Hr"
      },
      "source": [
        "#### **문자열 내장 함수**\n",
        "- 문자열에 여러가지 기능을 제공"
      ]
    },
    {
      "cell_type": "code",
      "metadata": {
        "colab": {
          "base_uri": "https://localhost:8080/"
        },
        "id": "bj5M89ReLCex",
        "outputId": "c327fecc-d431-4eea-e7d1-2c3a980e6d4c"
      },
      "source": [
        "#a = \"Hello World!\"\\\n",
        "print(a.upper())\n",
        "print(a.lower())\n",
        "print(a.replace('H','J'))\n",
        "print(a.replace('ello', 'i'))\n",
        "print(len(a))\n",
        "print(a.count('l'))\n",
        "\n",
        "print(a.find('w'))\n",
        "print(a.index('W'))\n",
        "\n",
        "b= \"!\".join(a)\n",
        "print(b)"
      ],
      "execution_count": 50,
      "outputs": [
        {
          "output_type": "stream",
          "text": [
            "HELLO WORLD!\n",
            "hello world!\n",
            "Jello World!\n",
            "Hi World!\n",
            "12\n",
            "3\n",
            "-1\n",
            "6\n",
            "H!e!l!l!o! !W!o!r!l!d!!\n"
          ],
          "name": "stdout"
        }
      ]
    },
    {
      "cell_type": "markdown",
      "metadata": {
        "id": "xYwPfrHeSenQ"
      },
      "source": [
        "##**format**\n",
        "- 문자열내의 특정한 값을 변수로부터 초기화하여 동적으로 문자열을 생성"
      ]
    },
    {
      "cell_type": "code",
      "metadata": {
        "colab": {
          "base_uri": "https://localhost:8080/",
          "height": 52
        },
        "id": "JjT6xXjtStFV",
        "outputId": "a6f60a5a-ac30-49c5-b51b-82a4e15e4998"
      },
      "source": [
        "temp = 27\n",
        "per = 80\n",
        "\n",
        "a='현재 기온은 {}도 이고, 비올 확률은 {}%입니다.'.format(temp,per)\n",
        "print(a)\n",
        "\n",
        "cla = 3\n",
        "#b= \n",
        "f'현재 프로그래밍 시간은 {cla}교시다.'"
      ],
      "execution_count": 56,
      "outputs": [
        {
          "output_type": "stream",
          "text": [
            "현재 기온은 27도 이고, 비올 확률은 80%입니다.\n"
          ],
          "name": "stdout"
        },
        {
          "output_type": "execute_result",
          "data": {
            "application/vnd.google.colaboratory.intrinsic+json": {
              "type": "string"
            },
            "text/plain": [
              "'현재 프로그래밍 시간은 3교시다.'"
            ]
          },
          "metadata": {},
          "execution_count": 56
        }
      ]
    },
    {
      "cell_type": "markdown",
      "metadata": {
        "id": "Klwn4Nz3VIuC"
      },
      "source": [
        "#### **split**\n",
        "- 문자열을 특정한 문자로 구분하여 치환"
      ]
    },
    {
      "cell_type": "code",
      "metadata": {
        "colab": {
          "base_uri": "https://localhost:8080/"
        },
        "id": "en2f-rBjVVIR",
        "outputId": "56910bda-853f-461b-de6a-ad4520947417"
      },
      "source": [
        "a = 'what a wonderful day. nice weaher!'\n",
        "a.split('w')"
      ],
      "execution_count": 57,
      "outputs": [
        {
          "output_type": "execute_result",
          "data": {
            "text/plain": [
              "['', 'hat a ', 'onderful day. nice ', 'eaher!']"
            ]
          },
          "metadata": {},
          "execution_count": 57
        }
      ]
    }
  ]
}